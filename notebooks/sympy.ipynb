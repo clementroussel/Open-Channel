{
 "cells": [
  {
   "cell_type": "code",
   "execution_count": 1,
   "id": "1f3041a0-b6b5-4dd7-a359-e9cbf0f479bc",
   "metadata": {},
   "outputs": [],
   "source": [
    "from sympy import *\n",
    "from sympy.utilities.lambdify import lambdastr"
   ]
  },
  {
   "cell_type": "code",
   "execution_count": 3,
   "id": "d8fd7cd1-245c-465d-8fcd-646707b6ee40",
   "metadata": {},
   "outputs": [],
   "source": [
    "Q, h, b, g, Sb, d84 = symbols('Q h b g S_b d_84')"
   ]
  },
  {
   "cell_type": "code",
   "execution_count": 57,
   "id": "d1579f3b-a08c-497b-8e73-c351c2c71705",
   "metadata": {},
   "outputs": [
    {
     "data": {
      "text/latex": [
       "$\\displaystyle - Q + \\frac{1.443 b h \\left(\\frac{Q}{b \\sqrt{S_{b} d_{84}^{3} g}}\\right)^{0.6} \\sqrt{S_{b} d_{84} g}}{\\left(0.044859671915054 \\left(\\frac{Q}{b \\sqrt{S_{b} d_{84}^{3} g}}\\right)^{0.8214} + 1\\right)^{0.2435}}$"
      ],
      "text/plain": [
       "-Q + 1.443*b*h*(Q/(b*sqrt(S_b*d_84**3*g)))**0.6*sqrt(S_b*d_84*g)/(0.044859671915054*(Q/(b*sqrt(S_b*d_84**3*g)))**0.8214 + 1)**0.2435"
      ]
     },
     "execution_count": 57,
     "metadata": {},
     "output_type": "execute_result"
    }
   ],
   "source": [
    "f = 1.443 * h * b * sqrt(g * Sb * d84) * (Q / (b*sqrt(g*Sb*d84**3)))**0.6 * (1 + (Q / (43.78*b*sqrt(g*Sb*d84**3)))**0.8214)**(-0.2435) - Q\n",
    "simplify(f)"
   ]
  },
  {
   "cell_type": "code",
   "execution_count": 58,
   "id": "f1cd4d16-59d0-4879-a5dd-b19940c77c81",
   "metadata": {},
   "outputs": [
    {
     "data": {
      "text/latex": [
       "$\\displaystyle -1 + \\frac{0.8658 b h \\left(\\frac{Q}{b \\sqrt{S_{b} d_{84}^{3} g}}\\right)^{0.6} \\sqrt{S_{b} d_{84} g}}{Q \\left(0.044859671915054 \\left(\\frac{Q}{b \\sqrt{S_{b} d_{84}^{3} g}}\\right)^{0.8214} + 1\\right)^{0.2435}} - \\frac{0.0129472068990062 b h \\left(\\frac{Q}{b \\sqrt{S_{b} d_{84}^{3} g}}\\right)^{1.4214} \\sqrt{S_{b} d_{84} g}}{Q \\left(0.044859671915054 \\left(\\frac{Q}{b \\sqrt{S_{b} d_{84}^{3} g}}\\right)^{0.8214} + 1\\right)^{1.2435}}$"
      ],
      "text/plain": [
       "-1 + 0.8658*b*h*(Q/(b*sqrt(S_b*d_84**3*g)))**0.6*sqrt(S_b*d_84*g)/(Q*(0.044859671915054*(Q/(b*sqrt(S_b*d_84**3*g)))**0.8214 + 1)**0.2435) - 0.0129472068990062*b*h*(Q/(b*sqrt(S_b*d_84**3*g)))**1.4214*sqrt(S_b*d_84*g)/(Q*(0.044859671915054*(Q/(b*sqrt(S_b*d_84**3*g)))**0.8214 + 1)**1.2435)"
      ]
     },
     "execution_count": 58,
     "metadata": {},
     "output_type": "execute_result"
    }
   ],
   "source": [
    "df = diff(f,Q)\n",
    "simplify(df)"
   ]
  },
  {
   "cell_type": "code",
   "execution_count": 56,
   "id": "6096a4d9-b6fe-43c8-b80e-22d1400fd1c4",
   "metadata": {},
   "outputs": [
    {
     "data": {
      "text/plain": [
       "'-1 + \\\\frac{0.8658 b h \\\\left(\\\\frac{Q}{b \\\\sqrt{S_{b} d_{84}^{3} g}}\\\\right)^{0.6} \\\\sqrt{S_{b} d_{84} g}}{Q \\\\left(0.044859671915054 \\\\left(\\\\frac{Q}{b \\\\sqrt{S_{b} d_{84}^{3} g}}\\\\right)^{0.8214} + 1\\\\right)^{0.2435}} - \\\\frac{0.0129472068990062 b h \\\\left(\\\\frac{Q}{b \\\\sqrt{S_{b} d_{84}^{3} g}}\\\\right)^{1.4214} \\\\sqrt{S_{b} d_{84} g}}{Q \\\\left(0.044859671915054 \\\\left(\\\\frac{Q}{b \\\\sqrt{S_{b} d_{84}^{3} g}}\\\\right)^{0.8214} + 1\\\\right)^{1.2435}}'"
      ]
     },
     "execution_count": 56,
     "metadata": {},
     "output_type": "execute_result"
    }
   ],
   "source": [
    "latex(df)"
   ]
  },
  {
   "cell_type": "code",
   "execution_count": 53,
   "id": "555061e2-cee8-4639-85c3-452ee60afc00",
   "metadata": {},
   "outputs": [
    {
     "data": {
      "text/plain": [
       "'lambda Q: (-1 + 0.8658*b*h*(Q/(b*sqrt(S_b*d_84**3*g)))**0.6*sqrt(S_b*d_84*g)*(0.044859671915054*(Q/(b*sqrt(S_b*d_84**3*g)))**0.8214 + 1)**(-0.2435)/Q - 0.0129472068990062*b*h*(Q/(b*sqrt(S_b*d_84**3*g)))**1.4214*sqrt(S_b*d_84*g)*(0.044859671915054*(Q/(b*sqrt(S_b*d_84**3*g)))**0.8214 + 1)**(-1.2435)/Q)'"
      ]
     },
     "execution_count": 53,
     "metadata": {},
     "output_type": "execute_result"
    }
   ],
   "source": [
    "lambdastr(Q, df)"
   ]
  },
  {
   "cell_type": "code",
   "execution_count": 11,
   "id": "4e76b1b2-6fc5-4a1a-ab5d-e91be1930182",
   "metadata": {},
   "outputs": [],
   "source": [
    "f = Q * d84 * sqrt(1 + 0.15 * (h / d84)**(5./3.)) - 2.5 * h**(5./2.) * b * sqrt(g * Sb)"
   ]
  },
  {
   "cell_type": "code",
   "execution_count": 12,
   "id": "68b4edaa-63a8-455b-81be-552b916878e9",
   "metadata": {},
   "outputs": [
    {
     "data": {
      "text/latex": [
       "$\\displaystyle Q d_{84} \\sqrt{0.15 \\left(\\frac{h}{d_{84}}\\right)^{1.66666666666667} + 1} - 2.5 b h^{2.5} \\sqrt{S_{b} g}$"
      ],
      "text/plain": [
       "Q*d_84*sqrt(0.15*(h/d_84)**1.66666666666667 + 1) - 2.5*b*h**2.5*sqrt(S_b*g)"
      ]
     },
     "execution_count": 12,
     "metadata": {},
     "output_type": "execute_result"
    }
   ],
   "source": [
    "f"
   ]
  },
  {
   "cell_type": "code",
   "execution_count": 13,
   "id": "1daea581-5f31-4a6a-a6c2-12617c2764f3",
   "metadata": {},
   "outputs": [
    {
     "data": {
      "text/latex": [
       "$\\displaystyle \\frac{0.125 Q d_{84} \\left(\\frac{h}{d_{84}}\\right)^{1.66666666666667}}{h \\sqrt{0.15 \\left(\\frac{h}{d_{84}}\\right)^{1.66666666666667} + 1}} - 6.25 b h^{1.5} \\sqrt{S_{b} g}$"
      ],
      "text/plain": [
       "0.125*Q*d_84*(h/d_84)**1.66666666666667/(h*sqrt(0.15*(h/d_84)**1.66666666666667 + 1)) - 6.25*b*h**1.5*sqrt(S_b*g)"
      ]
     },
     "execution_count": 13,
     "metadata": {},
     "output_type": "execute_result"
    }
   ],
   "source": [
    "df = diff(f, h)\n",
    "df"
   ]
  },
  {
   "cell_type": "code",
   "execution_count": 15,
   "id": "2fbf89c8-01dc-4209-8785-7783b709ee7e",
   "metadata": {},
   "outputs": [
    {
     "data": {
      "text/plain": [
       "'lambda h: (0.125*Q*d_84*(h/d_84)**1.66666666666667/(h*sqrt(0.15*(h/d_84)**1.66666666666667 + 1)) - 6.25*b*h**1.5*sqrt(S_b*g))'"
      ]
     },
     "execution_count": 15,
     "metadata": {},
     "output_type": "execute_result"
    }
   ],
   "source": [
    "lambdastr(h, df)"
   ]
  },
  {
   "cell_type": "code",
   "execution_count": null,
   "id": "4c2fd49e-c346-4f7e-b987-ece880e0586b",
   "metadata": {},
   "outputs": [],
   "source": []
  }
 ],
 "metadata": {
  "kernelspec": {
   "display_name": "Python 3 (ipykernel)",
   "language": "python",
   "name": "python3"
  },
  "language_info": {
   "codemirror_mode": {
    "name": "ipython",
    "version": 3
   },
   "file_extension": ".py",
   "mimetype": "text/x-python",
   "name": "python",
   "nbconvert_exporter": "python",
   "pygments_lexer": "ipython3",
   "version": "3.9.13"
  }
 },
 "nbformat": 4,
 "nbformat_minor": 5
}
