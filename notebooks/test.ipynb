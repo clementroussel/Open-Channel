{
 "cells": [
  {
   "cell_type": "code",
   "execution_count": 1,
   "id": "ff9418a0-9ff0-4d72-97a3-fba32ba71408",
   "metadata": {},
   "outputs": [],
   "source": [
    "import os\n",
    "os.chdir(\"../.\")"
   ]
  },
  {
   "cell_type": "code",
   "execution_count": 2,
   "id": "b79318af-4111-4167-8390-dd374143499e",
   "metadata": {},
   "outputs": [],
   "source": [
    "from openchannel.rectangularSection import RectangularSection"
   ]
  },
  {
   "cell_type": "markdown",
   "id": "d260458a-1173-424f-b3b1-804800281055",
   "metadata": {},
   "source": [
    "## Calcul en section rectangulaire - hauteur inconnue"
   ]
  },
  {
   "cell_type": "markdown",
   "id": "e47b9e45-292d-4622-aa23-f7d996d4de87",
   "metadata": {},
   "source": [
    "### en régime critique"
   ]
  },
  {
   "cell_type": "code",
   "execution_count": 3,
   "id": "304b4d2e-0960-4b96-9e54-54b50905c63e",
   "metadata": {},
   "outputs": [
    {
     "data": {
      "text/plain": [
       "Rectangular Section | b = 10.0 m"
      ]
     },
     "execution_count": 3,
     "metadata": {},
     "output_type": "execute_result"
    }
   ],
   "source": [
    "rect_section = RectangularSection()\n",
    "rect_section.b = 10.0\n",
    "rect_section"
   ]
  },
  {
   "cell_type": "code",
   "execution_count": 4,
   "id": "a7a54825-48a2-43b9-a701-f733311df20c",
   "metadata": {},
   "outputs": [
    {
     "data": {
      "text/plain": [
       "1.3659149772715915"
      ]
     },
     "execution_count": 4,
     "metadata": {},
     "output_type": "execute_result"
    }
   ],
   "source": [
    "rect_section.get_h(Q=50., law=\"critical\")"
   ]
  },
  {
   "cell_type": "markdown",
   "id": "dba9f2e3-8d8b-4408-a132-f5a9eae3da5a",
   "metadata": {},
   "source": [
    "### avec la loi de frottement de Manning-Strickler"
   ]
  },
  {
   "cell_type": "code",
   "execution_count": 5,
   "id": "b1b3aee4-d4f5-4734-b390-c9550fbc0d6d",
   "metadata": {},
   "outputs": [
    {
     "data": {
      "text/plain": [
       "1.037921650323498"
      ]
     },
     "execution_count": 5,
     "metadata": {},
     "output_type": "execute_result"
    }
   ],
   "source": [
    "rect_section.get_h(Q=50., law=\"manning-strickler\", Ks=30., Sb=0.03, h0=1.)"
   ]
  },
  {
   "cell_type": "markdown",
   "id": "0a2028ee-24f1-47c5-b29f-f2523f39aa13",
   "metadata": {},
   "source": [
    "### avec la loi de frottement de Ferguson"
   ]
  },
  {
   "cell_type": "code",
   "execution_count": 6,
   "id": "40c321c0-95ef-4bba-ade0-196b4e6851ed",
   "metadata": {},
   "outputs": [
    {
     "data": {
      "text/plain": [
       "1.0267272789883648"
      ]
     },
     "execution_count": 6,
     "metadata": {},
     "output_type": "execute_result"
    }
   ],
   "source": [
    "rect_section.get_h(Q=50.0, law=\"ferguson\", d84=0.10, Sb=0.03)"
   ]
  },
  {
   "cell_type": "markdown",
   "id": "f54c43a6-99c5-4a44-bdc0-8cb0987f384a",
   "metadata": {},
   "source": [
    "## Calcul en section rectangulaire - débit inconnu"
   ]
  },
  {
   "cell_type": "markdown",
   "id": "e2aa0491-25ab-4acd-acc4-6f7fde676868",
   "metadata": {},
   "source": [
    "### en régime critique"
   ]
  },
  {
   "cell_type": "code",
   "execution_count": 7,
   "id": "74750ef2-5aea-46c5-ac8d-d10e1b9395aa",
   "metadata": {},
   "outputs": [
    {
     "data": {
      "text/plain": [
       "Rectangular Section | b = 10.0 m"
      ]
     },
     "execution_count": 7,
     "metadata": {},
     "output_type": "execute_result"
    }
   ],
   "source": [
    "rect_section = RectangularSection()\n",
    "rect_section.b = 10.0\n",
    "rect_section"
   ]
  },
  {
   "cell_type": "code",
   "execution_count": 8,
   "id": "ef709691-acad-4224-aad7-e6cdc37aa391",
   "metadata": {},
   "outputs": [
    {
     "data": {
      "text/plain": [
       "50.00000000000001"
      ]
     },
     "execution_count": 8,
     "metadata": {},
     "output_type": "execute_result"
    }
   ],
   "source": [
    "rect_section.get_Q(h=1.3659149772715915, law=\"critical\")"
   ]
  },
  {
   "cell_type": "markdown",
   "id": "63e7ce56-0b5b-4f22-beff-ca0dc5b73282",
   "metadata": {},
   "source": [
    "### avec la loi de frottement de Manning-Strickler"
   ]
  },
  {
   "cell_type": "code",
   "execution_count": 9,
   "id": "0f400251-5cee-46b5-81bf-809a47bdce1a",
   "metadata": {},
   "outputs": [
    {
     "data": {
      "text/plain": [
       "50.00000000000001"
      ]
     },
     "execution_count": 9,
     "metadata": {},
     "output_type": "execute_result"
    }
   ],
   "source": [
    "rect_section.get_Q(h=1.037921650323498, law=\"manning-strickler\", Ks=30., Sb=0.03)"
   ]
  },
  {
   "cell_type": "markdown",
   "id": "2e49817b-8576-4578-89ab-00e59306b98f",
   "metadata": {},
   "source": [
    "### avec la loi de frottement de Ferguson"
   ]
  },
  {
   "cell_type": "code",
   "execution_count": 10,
   "id": "bf0f4e75-4234-4233-aacd-18058493a27a",
   "metadata": {},
   "outputs": [
    {
     "data": {
      "text/plain": [
       "49.91244594948793"
      ]
     },
     "execution_count": 10,
     "metadata": {},
     "output_type": "execute_result"
    }
   ],
   "source": [
    "rect_section.get_Q(h=1.0267272789883648, law=\"ferguson\", d84=0.10, Sb=0.03, Q0=40.)"
   ]
  }
 ],
 "metadata": {
  "kernelspec": {
   "display_name": "Python 3 (ipykernel)",
   "language": "python",
   "name": "python3"
  },
  "language_info": {
   "codemirror_mode": {
    "name": "ipython",
    "version": 3
   },
   "file_extension": ".py",
   "mimetype": "text/x-python",
   "name": "python",
   "nbconvert_exporter": "python",
   "pygments_lexer": "ipython3",
   "version": "3.9.13"
  }
 },
 "nbformat": 4,
 "nbformat_minor": 5
}
