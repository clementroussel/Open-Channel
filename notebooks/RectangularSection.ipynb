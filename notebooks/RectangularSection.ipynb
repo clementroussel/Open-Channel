{
 "cells": [
  {
   "cell_type": "code",
   "execution_count": 1,
   "id": "2ae6984f-7cae-4996-b599-aaf7976b3e31",
   "metadata": {},
   "outputs": [],
   "source": [
    "import os\n",
    "os.chdir(\"../.\")"
   ]
  },
  {
   "cell_type": "markdown",
   "id": "5f45c63c-69b2-4b6e-ae84-a4d8f953155c",
   "metadata": {
    "tags": []
   },
   "source": [
    "# Rectangular Section\n",
    "\n",
    "1. [Importer la classe **RectangularSection**](#1---Importer-la-classe-RectangularSection)\n",
    "2. [Créer une section rectangulaire](#2---Créer-une-section-rectangulaire)\n",
    "3. [Modifier les paramètres de définition](#3---Modifier-les-paramètres-de-définition)\n",
    "4. [Calculer la hauteur d'eau **h**](#4---Calculer-la-hauteur-d'eau-h)\n",
    "    - [Régime critique](#h-en-régime-critique)\n",
    "    - [Loi de frottement de Manning-Strickler](#h-avec-la-loi-de-frottement-de-Manning-Strickler)\n",
    "    - [Loi de frottement de Ferguson](#h-avec-la-loi-de-frottement-de-Ferguson)\n",
    "5. [Calculer le débit **Q**](#5---Calculer-le-débit-Q)\n",
    "    - [Régime critique](#Q-en-régime-critique)\n",
    "    - [Loi de frottement de Manning-Strickler](#Q-avec-la-loi-de-frottement-de-Manning-Strickler)\n",
    "    - [Loi de frottement de Ferguson](#Q-avec-la-loi-de-frottement-de-Ferguson)\n",
    "6. [Accéder aux paramètres géométriques et physiques](#6---Accéder-aux-paramètres-géométriques-et-physiques)\n",
    "7. [Afficher un résumé de la section](#7---Afficher-un-résumé-de-la-section)\n",
    "8. [A retenir](#8---A-retenir)"
   ]
  },
  {
   "cell_type": "markdown",
   "id": "fc29cb30-b37a-437c-ab57-c8556644cd7f",
   "metadata": {},
   "source": [
    "## 1 - Importer la classe **RectangularSection**"
   ]
  },
  {
   "cell_type": "code",
   "execution_count": 2,
   "id": "64694b09-8a10-4d9f-b37c-d6d99f364901",
   "metadata": {},
   "outputs": [],
   "source": [
    "from openchannel.rectangularSection import RectangularSection"
   ]
  },
  {
   "cell_type": "markdown",
   "id": "c322b3ee-67d9-4627-9c0d-8700e15317a4",
   "metadata": {},
   "source": [
    "## 2 - Créer une section rectangulaire"
   ]
  },
  {
   "cell_type": "code",
   "execution_count": 3,
   "id": "d48bfa8e-b8da-4326-9240-d687d21d2177",
   "metadata": {},
   "outputs": [
    {
     "data": {
      "text/plain": [
       "Rectangular Section | b = 1.0 m"
      ]
     },
     "execution_count": 3,
     "metadata": {},
     "output_type": "execute_result"
    }
   ],
   "source": [
    "rect_section = RectangularSection()\n",
    "rect_section"
   ]
  },
  {
   "cell_type": "markdown",
   "id": "1086021c-ce0c-44db-84d7-6d8174a972b6",
   "metadata": {},
   "source": [
    "## 3 - Modifier les paramètres de définition"
   ]
  },
  {
   "cell_type": "code",
   "execution_count": 4,
   "id": "1dbe5f87-4016-4394-897d-ff17234a8785",
   "metadata": {},
   "outputs": [],
   "source": [
    "rect_section.b = 3.0\n",
    "rect_section.name = \"section rectangulaire\""
   ]
  },
  {
   "cell_type": "code",
   "execution_count": 5,
   "id": "94f7e6fa-6541-4647-922d-76f15b66f693",
   "metadata": {},
   "outputs": [
    {
     "data": {
      "text/plain": [
       "section rectangulaire | b = 3.0 m"
      ]
     },
     "execution_count": 5,
     "metadata": {},
     "output_type": "execute_result"
    }
   ],
   "source": [
    "rect_section"
   ]
  },
  {
   "cell_type": "markdown",
   "id": "8cf52b52-dbe6-44c0-90c5-6e828cd52661",
   "metadata": {},
   "source": [
    "## 4 - Calculer la hauteur **h**\n",
    "\n",
    "Plusieurs méthodes:\n",
    "- [Régime critique](#h-en-régime-critique)\n",
    "- [Loi de frottement de Manning-Strickler](#h-avec-la-loi-de-frottement-de-Manning-Strickler)\n",
    "- [Loi de frottement de Ferguson](#h-avec-la-loi-de-frottement-de-Ferguson)"
   ]
  },
  {
   "cell_type": "markdown",
   "id": "7f714ac4-f1ed-468c-b0a7-6603fd65e614",
   "metadata": {
    "tags": []
   },
   "source": [
    "### **h** en régime critique\n",
    "\n",
    "```python\n",
    "h = rect_section.get_h(Q=..., law=\"critical\")\n",
    "```\n",
    "\n",
    "**Entrée:**\n",
    "- **$Q$**: Discharge in $m^{3}.s^{-1}$\n",
    "\n",
    "**Sortie:**\n",
    "- $h$: Water Height in $m$"
   ]
  },
  {
   "cell_type": "markdown",
   "id": "43755a30-52ff-4f95-976e-92b4fc7dd258",
   "metadata": {},
   "source": [
    "Avec l'hypothèse d'un **régime critique**:\n",
    "\n",
    "<center> $Fr = 1$ </center>\n",
    "<center> $\\Leftrightarrow \\frac{v}{\\sqrt{g.h}} = 1$ </center>\n",
    "<center> $\\Leftrightarrow v^2 = g \\times h$ </center>\n",
    "<center> $\\Leftrightarrow \\left( \\frac{Q}{A} \\right)^2 = g \\times h$ </center>\n",
    "<center> $\\Leftrightarrow \\left( \\frac{Q}{b h} \\right)^2 = g \\times h$ </center>\n",
    "<center> $\\Leftrightarrow \\boxed{h = \\left( \\frac{Q}{\\sqrt{g} b} \\right)^{\\frac{2}{3}}}$ </center>"
   ]
  },
  {
   "cell_type": "code",
   "execution_count": 6,
   "id": "53d2c90b-fb01-4460-a638-62184d28348a",
   "metadata": {},
   "outputs": [
    {
     "data": {
      "text/plain": [
       "1.6546881555053683"
      ]
     },
     "execution_count": 6,
     "metadata": {},
     "output_type": "execute_result"
    }
   ],
   "source": [
    "rect_section.get_h(Q=20., law=\"critical\")"
   ]
  },
  {
   "cell_type": "markdown",
   "id": "520f433a-19fc-49b0-ad71-b6dc90e0100d",
   "metadata": {
    "tags": []
   },
   "source": [
    "### **h** avec la loi de frottement de Manning-Strickler\n",
    "\n",
    "```python\n",
    "h = rect_section.get_h(Q=..., law=\"manning-strickler\", Ks=..., Sb=..., h0=...)\n",
    "```\n",
    "\n",
    "**Entrées:**\n",
    "- $Q$: Discharge in $m^{3}.s^{-1}$\n",
    "- $K_{s}$: Strickler coefficient in $m^{\\frac{1}{3}}.s^{-1}$\n",
    "- $S_b$: Bed Slope in $m.m^{-1}$\n",
    "- $h_{0}$: Starting estimate in $m$\n",
    "\n",
    "**Sortie:**\n",
    "- $h$: Water Height in $m$"
   ]
  },
  {
   "cell_type": "markdown",
   "id": "a1f29139-d7f1-4056-a247-f72b2bcd9116",
   "metadata": {},
   "source": [
    "Avec la loi de frottement de **Manning-Strickler** et à l'état d'équilibre:\n",
    "\n",
    "<center> $v = K_{s} \\times \\sqrt{R S_{b}}$ </center>\n",
    "<center> $\\Leftrightarrow v \\times A = K_{s} \\times \\sqrt{R S_{b}} \\times A$ </center>\n",
    "<center> $\\Leftrightarrow Q = K_{s} \\times \\sqrt{R S_{b}} \\times A$ </center>\n",
    "<center> $\\Leftrightarrow Q = K_{s} \\times \\sqrt{S_{b}} \\times \\sqrt{\\frac{b h}{b + 2 h}} \\times b \\times h$ </center>"
   ]
  },
  {
   "cell_type": "markdown",
   "id": "148b56a5-96cf-4eaf-b3b3-59c8dd8ba32b",
   "metadata": {},
   "source": [
    "<center> $\\Leftrightarrow \\boxed{Q = K_{s} \\times \\frac{(b h)^\\frac{3}{2}}{\\sqrt{b + 2 h}} \\times \\sqrt{S_{b}}}$ </center>"
   ]
  },
  {
   "cell_type": "markdown",
   "id": "2e1fa849-d58a-4671-aef5-9411574b057d",
   "metadata": {},
   "source": [
    "Ici, il n'est pas possible d'exprimer simplement $h$ en fonction de $Q$. L'estimation de $h$ passe donc par des méthodes numériques.  \n",
    "On définit ainsi:\n",
    "\n",
    "<center> $f(h) = K_{s} \\times \\frac{(b h)^\\frac{3}{2}}{\\sqrt{b + 2 h}} \\times \\sqrt{S_{b}} - Q$ </center>\n",
    "\n",
    "On estime numériquement $h$, tel que:\n",
    "\n",
    "<center> $f(h) = 0$ </center>\n",
    "\n",
    "On définit également la dérivée première de cette fonction:\n",
    "\n",
    "<center> $f'(h) = K_{s} \\times \\sqrt{S_{b}} \\times \\frac{\\frac{3}{2}b^{\\frac{3}{2}} \\sqrt{h} (b + 2 h) - (b h)^\\frac{3}{2}}{(b + 2 h)^\\frac{3}{2}}$ </center>"
   ]
  },
  {
   "cell_type": "code",
   "execution_count": 7,
   "id": "a94002bc-3e75-498f-8682-f1855206b214",
   "metadata": {},
   "outputs": [
    {
     "data": {
      "text/plain": [
       "1.0677406792325084"
      ]
     },
     "execution_count": 7,
     "metadata": {},
     "output_type": "execute_result"
    }
   ],
   "source": [
    "rect_section.get_h(Q=20, law=\"manning-strickler\", Ks=25, Sb=0.1, h0=0.5)"
   ]
  },
  {
   "cell_type": "markdown",
   "id": "7cdce5a8-cacc-4b6e-863b-d59f22c44192",
   "metadata": {
    "tags": []
   },
   "source": [
    "### **h** avec la loi de frottement de Ferguson\n",
    "\n",
    "```python\n",
    "h = rect_section.get_h(Q=..., law=\"ferguson\", d84=..., Sb=...)\n",
    "```\n",
    "\n",
    "**Entrées:**\n",
    "- $Q$: Discharge in $m^3.s^{-1}$\n",
    "- $d_{84}$: Diameter in $m$\n",
    "- $S_b$: Bed Slope in $m.m^{-1}$\n",
    "\n",
    "**Sortie:**\n",
    "- $h$: Water Height in $m$"
   ]
  },
  {
   "cell_type": "markdown",
   "id": "4403d254-c916-4385-bc77-51333495afe4",
   "metadata": {},
   "source": [
    "D'après [Rickenmann and Recking, 2011]:\n",
    "\n",
    "<center> $\\frac{v}{\\sqrt{g.S_{b}.d_{84}}} = 1.443 \\times \\hat{q}^{0.6} \\times \\left[ 1 + \\left( \\frac{\\hat{q}}{43.78} \\right)^{0.8214} \\right]^{-0.2435}$ </center>\n",
    "\n",
    "avec\n",
    "\n",
    "<center> $\\hat{q} = \\frac{q}{\\sqrt{g.S_{b}.d_{84}^{3}}}$ </center>\n",
    "\n",
    "et\n",
    "\n",
    "<center> $q = \\frac{Q}{b}$ </center>"
   ]
  },
  {
   "cell_type": "markdown",
   "id": "a4b83102-2873-4f71-b495-0b69feb4ea65",
   "metadata": {},
   "source": [
    "il vient:\n",
    "\n",
    "<center> $\\boxed{v = 1.443 \\times \\sqrt{g.S_{b}.d_{84}} \\times \\left( \\frac{Q}{b.\\sqrt{g.S_{b}.d_{84}^3}} \\right)^{0.6} \\times \\left[ 1 + \\left( \\frac{Q}{43.78.b.\\sqrt{g.S_{b}.d_{84}^3}} \\right)^{0.8214} \\right]^{-0.2435}}$</center>"
   ]
  },
  {
   "cell_type": "markdown",
   "id": "9d580a22-7438-4fea-b320-bba8f4b6ef07",
   "metadata": {},
   "source": [
    "Enfin:\n",
    "\n",
    "<center> $v = \\frac{Q}{A}$ </center>\n",
    "<center> $\\Leftrightarrow v = \\frac{Q}{b.h}$ </center>\n",
    "<center> $\\Leftrightarrow \\boxed{h = \\frac{Q}{v.b}}$ </center>"
   ]
  },
  {
   "cell_type": "code",
   "execution_count": 8,
   "id": "23df8320-e9bb-4375-a8f0-a4a32075ab30",
   "metadata": {},
   "outputs": [
    {
     "data": {
      "text/plain": [
       "1.1658823343352798"
      ]
     },
     "execution_count": 8,
     "metadata": {},
     "output_type": "execute_result"
    }
   ],
   "source": [
    "rect_section.get_h(Q=20., law=\"ferguson\", d84=0.4, Sb=0.1)"
   ]
  },
  {
   "cell_type": "markdown",
   "id": "8f6b8a84-9921-4918-93d7-5c796c42bce3",
   "metadata": {},
   "source": [
    "## 5 - Calculer le débit **Q**\n",
    "\n",
    "Plusieurs méthodes:\n",
    "- [Régime critique](#Q-en-régime-critique)\n",
    "- [Loi de frottement de Manning-Strickler](#Q-avec-la-loi-de-frottement-de-Manning-Strickler)\n",
    "- [Loi de frottement de Ferguson](#Q-avec-la-loi-de-frottement-de-Ferguson)"
   ]
  },
  {
   "cell_type": "markdown",
   "id": "ec15bffb-3bd4-4feb-a5b0-dc229563383c",
   "metadata": {},
   "source": [
    "### **Q** en régime critique\n",
    "\n",
    "```python\n",
    "Q = rect_section.get_Q(h=..., law=\"critical\")\n",
    "```\n",
    "\n",
    "**Entrée:**\n",
    "- $h$ : Water Height in $m$\n",
    "\n",
    "**Sortie:**\n",
    "- $Q$: Discharge in $m^3.s^{-1}$"
   ]
  },
  {
   "cell_type": "markdown",
   "id": "227826a4-d60d-42d4-b7ba-2e4306adddbf",
   "metadata": {},
   "source": [
    "Avec l'hypothèse d'un **régime critique**:\n",
    "\n",
    "<center> $Fr = 1$ </center>\n",
    "<center> $\\Leftrightarrow \\frac{v}{\\sqrt{g.h}} = 1$ </center>\n",
    "<center> $\\Leftrightarrow v^2 = g \\times h$ </center>\n",
    "<center> $\\Leftrightarrow \\left( \\frac{Q}{A} \\right)^2 = g \\times h$ </center>\n",
    "<center> $\\Leftrightarrow \\left( \\frac{Q}{b.h} \\right)^2 = g \\times h$ </center>\n",
    "<center> $\\Leftrightarrow \\boxed{Q = b \\times h^{\\frac{3}{2}} \\times \\sqrt{g}}$ </center>"
   ]
  },
  {
   "cell_type": "code",
   "execution_count": 9,
   "id": "eba21fc0-201c-428a-bfd6-5fce7e6bc61f",
   "metadata": {},
   "outputs": [
    {
     "data": {
      "text/plain": [
       "19.999999999999996"
      ]
     },
     "execution_count": 9,
     "metadata": {},
     "output_type": "execute_result"
    }
   ],
   "source": [
    "rect_section.get_Q(h=1.6546881555053683, law=\"critical\")"
   ]
  },
  {
   "cell_type": "markdown",
   "id": "b59062f0-bc14-4c06-b279-dadae4ded307",
   "metadata": {},
   "source": [
    "### **Q** avec la loi de frottement de Manning-Strickler\n",
    "\n",
    "```python\n",
    "Q = rect_section.get_Q(h=..., law=\"manning-strickler\", Ks=..., Sb=...)\n",
    "```\n",
    "\n",
    "**Entrées:**\n",
    "- $h$ : Water Height in $m$\n",
    "- $K_{s}$: Strickler coefficient in $m^{\\frac{1}{3}}.s^{-1}$\n",
    "- $S_b$: Bed Slope in $m.m^{-1}$\n",
    "\n",
    "**Sortie:**\n",
    "- $Q$: Discharge in $m^3.s^{-1}$"
   ]
  },
  {
   "cell_type": "markdown",
   "id": "a1cdaf23-9bbc-453b-a91e-6981205cef87",
   "metadata": {},
   "source": [
    "Avec la loi de frottement de **Manning-Strickler** et à l'état d'équilibre:\n",
    "\n",
    "<center> $v = K_{s} \\times \\sqrt{R.S_{b}}$ </center>\n",
    "<center> $\\Leftrightarrow v \\times A = K_{s} \\times \\sqrt{R.S_{b}} \\times A$ </center>\n",
    "<center> $\\Leftrightarrow Q = K_{s} \\times \\sqrt{R.S_{b}} \\times A$ </center>\n",
    "<center> $\\Leftrightarrow Q = K_{s} \\times \\sqrt{S_{b}} \\times \\sqrt{\\frac{b.h}{b + 2.h}} \\times b \\times h$ </center>\n",
    "<center> $\\Leftrightarrow \\boxed{Q = K_{s} \\times \\frac{(b.h)^\\frac{3}{2}}{\\sqrt{b + 2.h}} \\sqrt{S_{b}}}$ </center>"
   ]
  },
  {
   "cell_type": "code",
   "execution_count": 10,
   "id": "f6456d1d-493b-48ac-8a87-438405034479",
   "metadata": {},
   "outputs": [
    {
     "data": {
      "text/plain": [
       "20.000000000000004"
      ]
     },
     "execution_count": 10,
     "metadata": {},
     "output_type": "execute_result"
    }
   ],
   "source": [
    "rect_section.get_Q(h=1.0677406792325084, law=\"manning-strickler\", Ks=25, Sb=0.1)"
   ]
  },
  {
   "cell_type": "markdown",
   "id": "dc326f5a-6e3c-4de3-8238-fc5f19e54c9f",
   "metadata": {},
   "source": [
    "### **Q** avec la loi de frottement de Ferguson\n",
    "\n",
    "```python\n",
    "Q = rect_section.get_Q(h=..., law=\"ferguson\", d84=..., Sb=..., Q0=...)\n",
    "```\n",
    "\n",
    "**Entrées:**\n",
    "- $h$ : Water Height in $m$\n",
    "- $d_{84}$: Diameter in $m$\n",
    "- $S_b$: Bed Slope in $m.m^{-1}$\n",
    "- $Q_0$: Starting estimate in $m^3.s^{-1}$\n",
    "\n",
    "**Sortie:**\n",
    "- $Q$: Discharge in $m^3.s^{-1}$"
   ]
  },
  {
   "cell_type": "markdown",
   "id": "d32a10bd-d4db-4587-9d3b-c97888ef39d8",
   "metadata": {},
   "source": [
    "D'après [Rickenmann and Recking, 2011]:\n",
    "\n",
    "<center> $\\frac{v}{\\sqrt{g.S_{b}.d_{84}}} = 1.443 \\times \\hat{q}^{0.6} \\times \\left[ 1 + \\left( \\frac{\\hat{q}}{43.78} \\right)^{0.8214} \\right]^{-0.2435}$ </center>\n",
    "\n",
    "avec\n",
    "\n",
    "<center> $\\hat{q} = \\frac{q}{\\sqrt{g.S_{b}.d_{84}^{3}}}$ </center>\n",
    "\n",
    "et\n",
    "\n",
    "<center> $q = \\frac{Q}{b}$ </center>"
   ]
  },
  {
   "cell_type": "markdown",
   "id": "6d68dd31-1a6b-4149-8209-b3b659b33bbd",
   "metadata": {},
   "source": [
    "il vient:\n",
    "\n",
    "<center> $v = 1.443 \\times \\sqrt{g.S_{b}.d_{84}} \\times \\left( \\frac{Q}{b.\\sqrt{g.S_{b}.d_{84}^3}} \\right)^{0.6} \\times \\left[ 1 + \\left( \\frac{Q}{43.78.b.\\sqrt{g.S_{b}.d_{84}^3}} \\right)^{0.8214} \\right]^{-0.2435}$</center>"
   ]
  },
  {
   "cell_type": "markdown",
   "id": "2823df89-af3d-4af8-bbe9-d008c2f9b8f6",
   "metadata": {},
   "source": [
    "Enfin:\n",
    "\n",
    "<center> $v = \\frac{Q}{A}$ </center>\n",
    "<center> $\\Leftrightarrow v = \\frac{Q}{b.h}$ </center>\n",
    "<center> $\\Leftrightarrow Q = v \\times h \\times b$ </center>\n",
    "<center> $\\boxed{Q = 1.443 \\times h \\times b \\sqrt{g.S_{b}.d_{84}} \\times \\left( \\frac{Q}{b.\\sqrt{g.S_{b}.d_{84}^3}} \\right)^{0.6} \\times \\left[ 1 + \\left( \\frac{Q}{43.78.b.\\sqrt{g.S_{b}.d_{84}^3}} \\right)^{0.8214} \\right]^{-0.2435}}$ </center>"
   ]
  },
  {
   "cell_type": "markdown",
   "id": "273f4366-747c-452e-9388-c8b45533b4ec",
   "metadata": {},
   "source": [
    "Ici, il n'est pas possible d'exprimer simplement $Q$ en fonction de $h$. L'estimation de $Q$ passe donc par des méthodes numériques.  \n",
    "On définit ainsi:\n",
    "\n",
    "<center> $f(h) = 1.443 \\times h \\times b \\sqrt{g.S_{b}.d_{84}} \\times \\left( \\frac{Q}{b.\\sqrt{g.S_{b}.d_{84}^3}} \\right)^{0.6} \\times \\left[ 1 + \\left( \\frac{Q}{43.78.b.\\sqrt{g.S_{b}.d_{84}^3}} \\right)^{0.8214} \\right]^{-0.2435} - Q$ </center>\n",
    "\n",
    "On estime numériquement $Q$, tel que:\n",
    "\n",
    "<center> $f(Q) = 0$ </center>\n",
    "\n",
    "On définit également la dérivée première de cette fonction:\n",
    "\n",
    "<center> $f'(Q) = -1 + \\frac{0.8658.b.h.\\left(\\frac{Q}{b.\\sqrt{S_{b}.d_{84}^{3}.g}}\\right)^{0.6}.\\sqrt{S_{b}.d_{84}.g}}{Q.\\left(0.044859671915054.\\left(\\frac{Q}{b.\\sqrt{S_{b}.d_{84}^{3}.g}}\\right)^{0.8214} + 1\\right)^{0.2435}} - \\frac{0.0129472068990062.b.h. \\left(\\frac{Q}{b.\\sqrt{S_{b}.d_{84}^{3}.g}}\\right)^{1.4214}.\\sqrt{S_{b}.d_{84}.g}}{Q.\\left(0.044859671915054.\\left(\\frac{Q}{b.\\sqrt{S_{b}.d_{84}^{3}.g}}\\right)^{0.8214} + 1\\right)^{1.2435}}$ </center>"
   ]
  },
  {
   "cell_type": "code",
   "execution_count": 11,
   "id": "4a76066e-b848-4045-af18-2ff6d07a205b",
   "metadata": {},
   "outputs": [
    {
     "data": {
      "text/plain": [
       "20.005242002574896"
      ]
     },
     "execution_count": 11,
     "metadata": {},
     "output_type": "execute_result"
    }
   ],
   "source": [
    "rect_section.get_Q(h=1.1658823343352798, law=\"ferguson\", d84=0.40, Sb=0.1, Q0=10)"
   ]
  },
  {
   "cell_type": "markdown",
   "id": "14461c84-4157-424f-836d-309cdfb7214e",
   "metadata": {},
   "source": [
    "## 6 - Accéder aux paramètres géométriques et physiques"
   ]
  },
  {
   "cell_type": "markdown",
   "id": "72938858-b8f3-4224-bc1b-5d8d1f3de7b5",
   "metadata": {},
   "source": [
    "<center>\n",
    "    \n",
    "|    Paramètre               |          Commande                    | Formule                |\n",
    "|      :---                  |              ----:                   |  :-----:               |\n",
    "| Largeur de base $b$        | `base_width = rect_section.b`        | $b$                    |\n",
    "| Hauteur d'eau $h$          | `water_height = rect_section.h`      | $h$                    |\n",
    "| Débit $Q$                  | `discharge = rect_section.Q`         | $Q$                    |\n",
    "| Largeur au Miroir $T$      | `top_width = rect_section.T`         | $b$                    |\n",
    "| Surface Mouillée $A$       | `area = rect_section.A`              | $b.h$                  |\n",
    "| Périmètre Mouillé $P$      | `wetted_perimeter = rect_section.P`  | $b+2.h$                |\n",
    "| Rayon Hydraulique $R$      | `hydraulic_radius = rect_section.R`  | $\\frac{b.h}{b + 2.h}$  |\n",
    "| Profondeur Hydraulique $D$ | `hydraulic_depth = rect_section.D`   | $h$                    |\n",
    "| Charge $H$                 | `energy = rect_section.H`            | $h + \\frac{v^2}{2.g}$  |\n",
    "| Vitesse $v$                | `velocity = rect_section.v`          | $\\frac{Q}{b.h}$        |\n",
    "| Nombre de Froude $Fr$      | `froude_number = rect_section.Fr`    | $\\frac{v}{\\sqrt{g.h}}$ |\n",
    "\n",
    "</center>"
   ]
  },
  {
   "cell_type": "markdown",
   "id": "07ef5952-99c1-4eb5-91a1-14d4e1bce770",
   "metadata": {},
   "source": [
    "## 7 - Afficher un résumé de la section"
   ]
  },
  {
   "cell_type": "code",
   "execution_count": 12,
   "id": "79a637ff-98fc-4a14-9ab5-13637c569c94",
   "metadata": {},
   "outputs": [],
   "source": [
    "rect_section.name = str(rect_section)\n",
    "rect_section.note = \"---\""
   ]
  },
  {
   "cell_type": "code",
   "execution_count": 13,
   "id": "cd68c188-d627-4b71-81c5-e4cbc71ca74e",
   "metadata": {},
   "outputs": [
    {
     "name": "stdout",
     "output_type": "stream",
     "text": [
      "+--------------------------------------------------------------------------------+\n",
      "|                       section rectangulaire | b = 3.0 m                        |\n",
      "|                                      ---                                       |\n",
      "|                                 law : ferguson                                 |\n",
      "+================================================================================+\n",
      "|     Base Width     |     Largeur de Base      |           b = 3.0 m            |\n",
      "+--------------------+--------------------------+--------------------------------+\n",
      "|    Water Height    |      Hauteur d'Eau       |          h = 1.166 m           |\n",
      "+--------------------+--------------------------+--------------------------------+\n",
      "|     Discharge      |          Débit           |        Q = 20.005 m^3/s        |\n",
      "+--------------------+--------------------------+--------------------------------+\n",
      "|     Top Width      |    Largeur au Miroir     |           T = 3.0 m            |\n",
      "+--------------------+--------------------------+--------------------------------+\n",
      "|        Area        |     Surface Mouillée     |         A = 3.498 m^2          |\n",
      "+--------------------+--------------------------+--------------------------------+\n",
      "|  Wetted Perimeter  |    Périmètre Mouillé     |          P = 5.332 m           |\n",
      "+--------------------+--------------------------+--------------------------------+\n",
      "|  Hydraulic Radius  |    Rayon Hydraulique     |          R = 0.656 m           |\n",
      "+--------------------+--------------------------+--------------------------------+\n",
      "|  Hydraulic Depth   |  Profondeur Hydraulique  |          D = 1.166 m           |\n",
      "+--------------------+--------------------------+--------------------------------+\n",
      "|       Energy       |          Charge          |          H = 2.833 m           |\n",
      "+--------------------+--------------------------+--------------------------------+\n",
      "|      Velocity      |         Vitesse          |          v = 5.72 m/s          |\n",
      "+--------------------+--------------------------+--------------------------------+\n",
      "|   Froude Number    |     Nombre de Froude     |           Fr = 1.691           |\n",
      "+--------------------------------------------------------------------------------+\n"
     ]
    }
   ],
   "source": [
    "rect_section.summary()"
   ]
  },
  {
   "cell_type": "markdown",
   "id": "b61b6850-aee9-4b8a-b9d0-f95f5b104320",
   "metadata": {},
   "source": [
    "## 8 - A retenir"
   ]
  },
  {
   "cell_type": "markdown",
   "id": "609e04a2-c606-4a21-bb23-0339ed66ec35",
   "metadata": {},
   "source": [
    "```python\n",
    "# importer la classe RectangularSection #\n",
    "# ------------------------------------- #\n",
    "from openchannel.rectangularSection import RectangularSection\n",
    "```"
   ]
  },
  {
   "cell_type": "markdown",
   "id": "6b2d9490-6317-4f29-a5d6-1c73ff7c9e90",
   "metadata": {},
   "source": [
    "```python\n",
    "# créer une section rectangulaire #\n",
    "# ------------------------------- #\n",
    "rect_section = RectangularSection()\n",
    "```"
   ]
  },
  {
   "cell_type": "markdown",
   "id": "d6269ef4-1210-4d2d-b61a-5a4723e7ae18",
   "metadata": {},
   "source": [
    "```python\n",
    "# éditer la géométrie #\n",
    "# ------------------- #\n",
    "rect_section.b = ...\n",
    "\n",
    "```"
   ]
  },
  {
   "cell_type": "markdown",
   "id": "669907ea-4d3b-4443-b961-4a096fd08f92",
   "metadata": {},
   "source": [
    "```python\n",
    "# déterminer la hauteur d'eau... #\n",
    "# ------------------------------ #\n",
    "# ...en régime critique\n",
    "h = rect_section.get_h(Q=..., law=\"critical\")\n",
    "\n",
    "# ...avec la loi de frottement de Manning-Strickler\n",
    "h = rect_section.get_h(Q=..., law=\"manning-strickler\", Ks=..., Sb=..., h0=...)\n",
    "\n",
    "# ...avec la loi de frottement de Ferguson\n",
    "h = rect_section.get_h(Q=..., law=\"ferguson\", d84=..., Sb=...)\n",
    "```"
   ]
  },
  {
   "cell_type": "markdown",
   "id": "a4ec0446-e019-4e78-80e6-e785ec4cc1a1",
   "metadata": {},
   "source": [
    "```python\n",
    "# déterminer le débit... #\n",
    "# ---------------------- #\n",
    "# ...en régime critique\n",
    "Q = rect_section.get_Q(h=..., law=\"critical\")\n",
    "\n",
    "# ...avec la loi de frottement de Manning-Strickler\n",
    "Q = rect_section.get_Q(h=..., law=\"manning-strickler\", Ks=..., Sb=...)\n",
    "\n",
    "# ...avec la loi de frottement de Ferguson\n",
    "Q = rect_section.get_Q(h=..., law=\"ferguson\", d84=..., Sb=..., Q0=...)\n",
    "\n",
    "```"
   ]
  },
  {
   "cell_type": "markdown",
   "id": "d538d32e-3c75-47ab-9672-5329cf1bc113",
   "metadata": {},
   "source": [
    "```python\n",
    "# accéder aux paramètres géométriques et physiques #\n",
    "# ------------------------------------------------ #\n",
    "base_width = rect_section.b       # Largeur de base\n",
    "water_height = rect_section.h     # Hauteur d'eau\n",
    "discharge = rect_section.Q        # Débit\n",
    "top_width = rect_section.T        # Largeur au Miroir\n",
    "area = rect_section.A             # Surface Mouillée\n",
    "wetted_perimeter = rect_section.P # Périmètre Mouillé\n",
    "hydraulic_radius = rect_section.R # Rayon Hydraulique\n",
    "hydraulic_depth = rect_section.D  # Profondeur Hydraulique\n",
    "energy = rect_section.H           # Charge\n",
    "velocity = rect_section.v         # Vitesse\n",
    "froude_number = rect_section.Fr   # Nombre de Froude\n",
    "```"
   ]
  },
  {
   "cell_type": "markdown",
   "id": "c65c3f56-5477-422b-8642-0d49d79a30d0",
   "metadata": {},
   "source": [
    "```python\n",
    "# afficher un résumé #\n",
    "# ------------------ #\n",
    "rect_section.name = \"...\"\n",
    "rect_section.note = \"...\"\n",
    "rect_section.summary()\n",
    "```"
   ]
  }
 ],
 "metadata": {
  "kernelspec": {
   "display_name": "Python 3 (ipykernel)",
   "language": "python",
   "name": "python3"
  },
  "language_info": {
   "codemirror_mode": {
    "name": "ipython",
    "version": 3
   },
   "file_extension": ".py",
   "mimetype": "text/x-python",
   "name": "python",
   "nbconvert_exporter": "python",
   "pygments_lexer": "ipython3",
   "version": "3.8.13"
  },
  "toc-autonumbering": false,
  "toc-showcode": false,
  "toc-showmarkdowntxt": false
 },
 "nbformat": 4,
 "nbformat_minor": 5
}
